{
  "nbformat": 4,
  "nbformat_minor": 0,
  "metadata": {
    "language_info": {
      "codemirror_mode": {
        "name": "ipython",
        "version": 3
      },
      "file_extension": ".py",
      "mimetype": "text/x-python",
      "name": "python",
      "nbconvert_exporter": "python",
      "pygments_lexer": "ipython3",
      "version": "3.8.5-final"
    },
    "orig_nbformat": 2,
    "kernelspec": {
      "name": "python3",
      "display_name": "Python 3.8.5 64-bit",
      "metadata": {
        "interpreter": {
          "hash": "aee8b7b246df8f9039afb4144a1f6fd8d2ca17a180786b69acc140d282b71a49"
        }
      }
    },
    "colab": {
      "name": "model building of job analysis.ipynb",
      "provenance": [],
      "collapsed_sections": []
    }
  },
  "cells": [
    {
      "cell_type": "code",
      "metadata": {
        "id": "RDTL6luYaqms"
      },
      "source": [
        "import pandas as pd\n",
        "import matplotlib.pyplot as plt\n",
        "import numpy as np\n",
        "import seaborn as sns\n",
        "from sklearn.feature_extraction.text import TfidfVectorizer\n",
        "from sklearn.model_selection import train_test_split\n",
        "from sklearn.feature_extraction.text import CountVectorizer"
      ],
      "execution_count": 4,
      "outputs": []
    },
    {
      "cell_type": "code",
      "metadata": {
        "id": "WHCWJkkwaqmw"
      },
      "source": [
        "fake_job_postings = pd.read_csv('fake_job_postings_cleaned.csv')"
      ],
      "execution_count": 5,
      "outputs": []
    },
    {
      "cell_type": "code",
      "metadata": {
        "id": "sHiBvFHGaqmx"
      },
      "source": [
        "X = fake_job_postings[['telecommuting', 'ratio', 'text', 'character_count']]\n",
        "y = fake_job_postings['fraudulent']"
      ],
      "execution_count": 6,
      "outputs": []
    },
    {
      "cell_type": "code",
      "metadata": {
        "id": "EOMAETk5aqmx"
      },
      "source": [
        "X_train, X_test, y_train, y_test = train_test_split(X, y, test_size=0.33, random_state=53)"
      ],
      "execution_count": 7,
      "outputs": []
    },
    {
      "cell_type": "code",
      "metadata": {
        "id": "VVcZAjMVaqmy"
      },
      "source": [
        "X_train_num = X_train[['telecommuting', 'ratio', 'character_count']]\n",
        "X_test_num = X_test[['telecommuting', 'ratio', 'character_count']]"
      ],
      "execution_count": 8,
      "outputs": []
    },
    {
      "cell_type": "code",
      "metadata": {
        "id": "FccqMLSsaqmz"
      },
      "source": [
        "count_vectorizer = CountVectorizer(stop_words='english')\n",
        "count_train = count_vectorizer.fit_transform(X_train.text.values)\n",
        "count_test = count_vectorizer.transform(X_test.text.values)"
      ],
      "execution_count": 9,
      "outputs": []
    },
    {
      "cell_type": "code",
      "metadata": {
        "id": "CthmxaXIaqm0"
      },
      "source": [
        "tfidf_vectorizer = TfidfVectorizer(stop_words=\"english\", max_df=1)\n",
        "tfidf_train = tfidf_vectorizer.fit_transform(X_train.text)\n",
        "tfidf_test = tfidf_vectorizer.transform(X_test.text)"
      ],
      "execution_count": 10,
      "outputs": []
    },
    {
      "cell_type": "code",
      "metadata": {
        "id": "rzQSQbaYaqm1"
      },
      "source": [
        "count_df = pd.DataFrame(count_train.A, columns=count_vectorizer.get_feature_names())\n",
        "tfidf_df = pd.DataFrame(tfidf_train.A, columns=tfidf_vectorizer.get_feature_names())"
      ],
      "execution_count": 11,
      "outputs": []
    },
    {
      "cell_type": "code",
      "metadata": {
        "id": "HGi9T_GHaqm2",
        "colab": {
          "base_uri": "https://localhost:8080/"
        },
        "outputId": "dcdfff5f-e26d-446d-a616-8150bd458358"
      },
      "source": [
        "from sklearn.naive_bayes import MultinomialNB\n",
        "from sklearn import metrics\n",
        "from sklearn.model_selection import train_test_split\n",
        "\n",
        "nb_classifier = MultinomialNB()\n",
        "nb_classifier.fit(count_train, y_train)\n",
        "pred = nb_classifier.predict(count_test)\n",
        "metrics.accuracy_score(y_test, pred)\n"
      ],
      "execution_count": 12,
      "outputs": [
        {
          "output_type": "execute_result",
          "data": {
            "text/plain": [
              "0.971395881006865"
            ]
          },
          "metadata": {
            "tags": []
          },
          "execution_count": 12
        }
      ]
    },
    {
      "cell_type": "code",
      "metadata": {
        "id": "tUlmc4zlaqm3",
        "colab": {
          "base_uri": "https://localhost:8080/"
        },
        "outputId": "b0287b8c-964a-42d1-90e0-37d13279baf7"
      },
      "source": [
        "metrics.f1_score(y_test, pred)"
      ],
      "execution_count": 13,
      "outputs": [
        {
          "output_type": "execute_result",
          "data": {
            "text/plain": [
              "0.7435897435897436"
            ]
          },
          "metadata": {
            "tags": []
          },
          "execution_count": 13
        }
      ]
    },
    {
      "cell_type": "code",
      "metadata": {
        "id": "2QPNSvYUaqm4",
        "colab": {
          "base_uri": "https://localhost:8080/"
        },
        "outputId": "32d2c534-302c-43f9-80de-aec121da653b"
      },
      "source": [
        "from sklearn.linear_model import SGDClassifier\n",
        "\n",
        "clf_log = SGDClassifier(loss='log').fit(count_train, y_train)\n",
        "pred_log = clf_log.predict(count_test)\n",
        "metrics.accuracy_score(y_test, pred_log)"
      ],
      "execution_count": 14,
      "outputs": [
        {
          "output_type": "execute_result",
          "data": {
            "text/plain": [
              "0.972254004576659"
            ]
          },
          "metadata": {
            "tags": []
          },
          "execution_count": 14
        }
      ]
    },
    {
      "cell_type": "code",
      "metadata": {
        "id": "1YIvKXoFaqm4",
        "colab": {
          "base_uri": "https://localhost:8080/"
        },
        "outputId": "9c4c4e7a-9713-4c88-f4c1-e9b44f7835ed"
      },
      "source": [
        "clf_num = SGDClassifier(loss='log').fit(X_train_num, y_train)\n",
        "pred_num = clf_num.predict(X_test_num)\n",
        "metrics.accuracy_score(y_test, pred_num)"
      ],
      "execution_count": 15,
      "outputs": [
        {
          "output_type": "execute_result",
          "data": {
            "text/plain": [
              "0.06607551487414187"
            ]
          },
          "metadata": {
            "tags": []
          },
          "execution_count": 15
        }
      ]
    },
    {
      "cell_type": "code",
      "metadata": {
        "id": "WtwyQ2-iaqm5"
      },
      "source": [
        "prediction_array = []\n",
        "\n",
        "for i, j in zip(pred_num, pred_log):\n",
        "    if i == 0 and j == 0:\n",
        "        prediction_array.append(0)\n",
        "    else:\n",
        "        prediction_array.append(1)"
      ],
      "execution_count": 16,
      "outputs": []
    },
    {
      "cell_type": "code",
      "metadata": {
        "id": "57j0YKKzaqm6",
        "colab": {
          "base_uri": "https://localhost:8080/"
        },
        "outputId": "31a04bbc-1397-44c9-c4e2-7d81df02244f"
      },
      "source": [
        "metrics.accuracy_score(y_test, prediction_array)"
      ],
      "execution_count": 17,
      "outputs": [
        {
          "output_type": "execute_result",
          "data": {
            "text/plain": [
              "0.06607551487414187"
            ]
          },
          "metadata": {
            "tags": []
          },
          "execution_count": 17
        }
      ]
    },
    {
      "cell_type": "code",
      "metadata": {
        "id": "rBAJi7pvaqm6",
        "colab": {
          "base_uri": "https://localhost:8080/"
        },
        "outputId": "d3d6837f-d9bd-48a2-871c-8fcc379d2dbf"
      },
      "source": [
        "metrics.f1_score(y_test, prediction_array)"
      ],
      "execution_count": 18,
      "outputs": [
        {
          "output_type": "execute_result",
          "data": {
            "text/plain": [
              "0.12396028977730077"
            ]
          },
          "metadata": {
            "tags": []
          },
          "execution_count": 18
        }
      ]
    },
    {
      "cell_type": "code",
      "metadata": {
        "id": "noPhpRtNaqm7"
      },
      "source": [
        "from sklearn.metrics import confusion_matrix\n",
        "\n",
        "cf_matrix = confusion_matrix(y_test, prediction_array)"
      ],
      "execution_count": 19,
      "outputs": []
    },
    {
      "cell_type": "code",
      "metadata": {
        "id": "shFQpRT8aqm8",
        "colab": {
          "base_uri": "https://localhost:8080/",
          "height": 265
        },
        "outputId": "c2a400cc-1d0d-467d-c42d-e0339dd39f23"
      },
      "source": [
        "group_names = [\"True Neg\",\"False Pos\", \"False Neg\", \"True Pos\"]\n",
        "group_counts = [\"{0:0.0f}\".format(value) for value in\n",
        "                cf_matrix.flatten()]\n",
        "group_percentages = [\"{0:.2%}\".format(value) for value in\n",
        "                      cf_matrix.flatten()/np.sum(cf_matrix)]\n",
        "labels = [f'{v1}\\n{v2}\\n{v3}' for v1, v2, v3 in\n",
        "          zip(group_names,group_counts,group_percentages)]\n",
        "labels = np.asarray(labels).reshape(2,2)\n",
        "sns.heatmap(cf_matrix, annot=labels, fmt='', cmap='Blues');"
      ],
      "execution_count": 20,
      "outputs": [
        {
          "output_type": "display_data",
          "data": {
            "image/png": "[encoded data removed]",
            "text/plain": [
              "<Figure size 432x288 with 2 Axes>"
            ]
          },
          "metadata": {
            "tags": [],
            "needs_background": "light"
          }
        }
      ]
    },
    {
      "cell_type": "code",
      "metadata": {
        "id": "BAq06Ndhaqm8",
        "colab": {
          "base_uri": "https://localhost:8080/"
        },
        "outputId": "8be5e901-1781-4c25-b158-ae48aa31059c"
      },
      "source": [
        "len(y_test[y_test == 0]), len(y_test[y_test == 1])"
      ],
      "execution_count": 21,
      "outputs": [
        {
          "output_type": "execute_result",
          "data": {
            "text/plain": [
              "(3265, 231)"
            ]
          },
          "metadata": {
            "tags": []
          },
          "execution_count": 21
        }
      ]
    },
    {
      "cell_type": "code",
      "metadata": {
        "id": "iNmmw5BDaqm9"
      },
      "source": [
        ""
      ],
      "execution_count": null,
      "outputs": []
    }
  ]
}